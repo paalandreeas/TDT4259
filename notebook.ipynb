{
 "cells": [
  {
   "cell_type": "code",
   "execution_count": 1,
   "metadata": {},
   "outputs": [],
   "source": [
    "# Imports\n",
    "import pandas as pd"
   ]
  },
  {
   "cell_type": "markdown",
   "metadata": {},
   "source": [
    "## Characteristics Formatting"
   ]
  },
  {
   "cell_type": "code",
   "execution_count": 2,
   "metadata": {},
   "outputs": [],
   "source": [
    "# Load caracteristiques data\n",
    "cara_2019_df = pd.read_csv(\"./raw_data/caracteristiques-2019.csv\", encoding=\"latin1\", sep=\";\", decimal=\",\")\n",
    "cara_2018_df = pd.read_csv(\"./raw_data/caracteristiques-2018.csv\", encoding=\"latin1\")\n",
    "cara_2017_df = pd.read_csv(\"./raw_data/caracteristiques-2017.csv\", encoding=\"latin1\")\n",
    "cara_2016_df = pd.read_csv(\"./raw_data/caracteristiques_2016.csv\", encoding=\"latin1\")\n",
    "cara_2015_df = pd.read_csv(\"./raw_data/caracteristiques_2015.csv\", encoding=\"latin1\")\n",
    "cara_2014_df = pd.read_csv(\"./raw_data/caracteristiques_2014.csv\", encoding=\"latin1\")\n",
    "cara_2013_df = pd.read_csv(\"./raw_data/caracteristiques_2013.csv\", encoding=\"latin1\")\n",
    "cara_2012_df = pd.read_csv(\"./raw_data/caracteristiques_2012.csv\", encoding=\"latin1\")\n",
    "cara_2011_df = pd.read_csv(\"./raw_data/caracteristiques_2011.csv\", encoding=\"latin1\")\n",
    "cara_2010_df = pd.read_csv(\"./raw_data/caracteristiques_2010.csv\", encoding=\"latin1\")\n",
    "cara_2009_df = pd.read_csv(\"./raw_data/caracteristiques_2009.csv\", encoding=\"utf-8\", sep='\\t')\n",
    "cara_2008_df = pd.read_csv(\"./raw_data/caracteristiques_2008.csv\", encoding=\"latin1\")\n",
    "cara_2007_df = pd.read_csv(\"./raw_data/caracteristiques_2007.csv\", encoding=\"latin1\")\n",
    "cara_2006_df = pd.read_csv(\"./raw_data/caracteristiques_2006.csv\", encoding=\"latin1\")\n",
    "cara_2005_df = pd.read_csv(\"./raw_data/caracteristiques_2005.csv\", encoding=\"latin1\")"
   ]
  },
  {
   "cell_type": "code",
   "execution_count": 3,
   "metadata": {},
   "outputs": [],
   "source": [
    "def format_timestamp(time: int) -> str:\n",
    "    \"\"\"Function to format invalid int timestamp to valid string timestamp (hh:mm).\n",
    "\n",
    "    Args:\n",
    "        time (int): Timestamp in int\n",
    "\n",
    "    Returns:\n",
    "        str: Timestamp on format (hh:mm).\n",
    "    \"\"\"\n",
    "    tmp = \"0000\" + str(time)\n",
    "    return tmp[-4:-2] + \":\" + tmp[-2:]"
   ]
  },
  {
   "cell_type": "code",
   "execution_count": 4,
   "metadata": {},
   "outputs": [],
   "source": [
    "# Fix \"an\" (year) columns\n",
    "cara_2019_df[\"an\"] = 2019\n",
    "cara_2018_df[\"an\"] = 2018\n",
    "cara_2017_df[\"an\"] = 2017\n",
    "cara_2016_df[\"an\"] = 2016\n",
    "cara_2015_df[\"an\"] = 2015\n",
    "cara_2014_df[\"an\"] = 2014\n",
    "cara_2013_df[\"an\"] = 2013\n",
    "cara_2012_df[\"an\"] = 2012\n",
    "cara_2011_df[\"an\"] = 2011\n",
    "cara_2010_df[\"an\"] = 2010\n",
    "cara_2009_df[\"an\"] = 2009\n",
    "cara_2008_df[\"an\"] = 2008\n",
    "cara_2007_df[\"an\"] = 2007\n",
    "cara_2006_df[\"an\"] = 2006\n",
    "cara_2005_df[\"an\"] = 2005"
   ]
  },
  {
   "cell_type": "code",
   "execution_count": 5,
   "metadata": {},
   "outputs": [],
   "source": [
    "# Fix timestamp in certain datasets\n",
    "cara_2005_df[\"hrmn\"] = cara_2005_df[\"hrmn\"].apply(lambda x: format_timestamp(x))\n",
    "cara_2006_df[\"hrmn\"] = cara_2006_df[\"hrmn\"].apply(lambda x: format_timestamp(x))\n",
    "cara_2007_df[\"hrmn\"] = cara_2007_df[\"hrmn\"].apply(lambda x: format_timestamp(x))\n",
    "cara_2008_df[\"hrmn\"] = cara_2008_df[\"hrmn\"].apply(lambda x: format_timestamp(x))\n",
    "cara_2009_df[\"hrmn\"] = cara_2009_df[\"hrmn\"].apply(lambda x: format_timestamp(x))\n",
    "cara_2010_df[\"hrmn\"] = cara_2010_df[\"hrmn\"].apply(lambda x: format_timestamp(x))\n",
    "cara_2011_df[\"hrmn\"] = cara_2011_df[\"hrmn\"].apply(lambda x: format_timestamp(x))\n",
    "cara_2012_df[\"hrmn\"] = cara_2012_df[\"hrmn\"].apply(lambda x: format_timestamp(x))\n",
    "cara_2013_df[\"hrmn\"] = cara_2013_df[\"hrmn\"].apply(lambda x: format_timestamp(x))\n",
    "cara_2014_df[\"hrmn\"] = cara_2014_df[\"hrmn\"].apply(lambda x: format_timestamp(x))\n",
    "cara_2015_df[\"hrmn\"] = cara_2015_df[\"hrmn\"].apply(lambda x: format_timestamp(x))\n",
    "cara_2016_df[\"hrmn\"] = cara_2016_df[\"hrmn\"].apply(lambda x: format_timestamp(x))\n",
    "cara_2017_df[\"hrmn\"] = cara_2017_df[\"hrmn\"].apply(lambda x: format_timestamp(x))\n",
    "cara_2018_df[\"hrmn\"] = cara_2018_df[\"hrmn\"].apply(lambda x: format_timestamp(x))"
   ]
  },
  {
   "cell_type": "code",
   "execution_count": 6,
   "metadata": {},
   "outputs": [],
   "source": [
    "# Combine dataset and rename columns\n",
    "cara_datasets = [cara_2005_df, cara_2006_df, cara_2007_df, cara_2008_df, cara_2009_df, cara_2010_df, cara_2011_df, cara_2012_df, cara_2013_df, cara_2014_df, cara_2015_df, cara_2016_df, cara_2017_df, cara_2018_df, cara_2019_df]\n",
    "cara_2005_2019 = pd.concat(cara_datasets)\n",
    "cara_2005_2019.columns = [\"acc_id\", \"year\", \"month\", \"day\", \"timestamp\", \"light_cond\", \"agglomeration\", \"intersection\", \"atmosphere\", \"collision_type\", \"municipality\", \"address\", \"gps_coding\", \"lat\", \"long\", \"department\"]"
   ]
  },
  {
   "cell_type": "markdown",
   "metadata": {},
   "source": [
    "## Places Formatting"
   ]
  },
  {
   "cell_type": "code",
   "execution_count": 7,
   "metadata": {},
   "outputs": [
    {
     "name": "stderr",
     "output_type": "stream",
     "text": [
      "/usr/local/anaconda3/envs/ds/lib/python3.9/site-packages/IPython/core/interactiveshell.py:3444: DtypeWarning: Columns (2) have mixed types.Specify dtype option on import or set low_memory=False.\n",
      "  exec(code_obj, self.user_global_ns, self.user_ns)\n"
     ]
    }
   ],
   "source": [
    "# Load places data\n",
    "plac_2019_df = pd.read_csv(\"./raw_data/lieux-2019.csv\", encoding=\"latin1\", sep=\";\", decimal=\",\")\n",
    "plac_2018_df = pd.read_csv(\"./raw_data/lieux-2018.csv\", encoding=\"latin1\")\n",
    "plac_2017_df = pd.read_csv(\"./raw_data/lieux-2017.csv\", encoding=\"latin1\")\n",
    "plac_2016_df = pd.read_csv(\"./raw_data/lieux_2016.csv\", encoding=\"latin1\")\n",
    "plac_2015_df = pd.read_csv(\"./raw_data/lieux_2015.csv\", encoding=\"latin1\")\n",
    "plac_2014_df = pd.read_csv(\"./raw_data/lieux_2014.csv\", encoding=\"latin1\")\n",
    "plac_2013_df = pd.read_csv(\"./raw_data/lieux_2013.csv\", encoding=\"latin1\")\n",
    "plac_2012_df = pd.read_csv(\"./raw_data/lieux_2012.csv\", encoding=\"latin1\")\n",
    "plac_2011_df = pd.read_csv(\"./raw_data/lieux_2011.csv\", encoding=\"latin1\")\n",
    "plac_2010_df = pd.read_csv(\"./raw_data/lieux_2010.csv\", encoding=\"latin1\")\n",
    "plac_2009_df = pd.read_csv(\"./raw_data/lieux_2009.csv\", encoding=\"latin1\")\n",
    "plac_2008_df = pd.read_csv(\"./raw_data/lieux_2008.csv\", encoding=\"latin1\")\n",
    "plac_2007_df = pd.read_csv(\"./raw_data/lieux_2007.csv\", encoding=\"latin1\")\n",
    "plac_2006_df = pd.read_csv(\"./raw_data/lieux_2006.csv\", encoding=\"latin1\")\n",
    "plac_2005_df = pd.read_csv(\"./raw_data/lieux_2005.csv\", encoding=\"latin1\")"
   ]
  },
  {
   "cell_type": "code",
   "execution_count": 8,
   "metadata": {},
   "outputs": [],
   "source": [
    "# Fix column name in places 2019\n",
    "plac_2019_df = plac_2019_df.rename(columns={ \"vma\": \"env1\" })"
   ]
  },
  {
   "cell_type": "code",
   "execution_count": 9,
   "metadata": {},
   "outputs": [],
   "source": [
    "# Combine dataset and rename columns\n",
    "plac_datasets = [plac_2005_df, plac_2006_df, plac_2007_df, plac_2008_df, plac_2009_df, plac_2010_df, plac_2011_df, plac_2012_df, plac_2013_df, plac_2014_df, plac_2015_df, plac_2016_df, plac_2017_df, plac_2018_df, plac_2019_df]\n",
    "plac_2005_2019 = pd.concat(plac_datasets)\n",
    "plac_2005_2019.columns = [\"acc_id\", \"category\", \"road_nr\", \"v1\", \"v2\", \"traffic_regime\", \"num_of_lanes\", \"pr\", \"pr_dist\", \"reserved_lane\", \"long_profile\", \"plan\", \"lartpc\", \"vehicle_road_width\", \"surface_cond\", \"infrastructure\", \"situation\", \"env1\"]"
   ]
  },
  {
   "cell_type": "markdown",
   "metadata": {},
   "source": [
    "## Users Formatting"
   ]
  },
  {
   "cell_type": "code",
   "execution_count": 10,
   "metadata": {},
   "outputs": [],
   "source": [
    "# Load users data\n",
    "user_2019_df = pd.read_csv(\"./raw_data/usagers-2019.csv\", encoding=\"latin1\", sep=\";\", decimal=\",\")\n",
    "user_2018_df = pd.read_csv(\"./raw_data/usagers-2018.csv\", encoding=\"latin1\")\n",
    "user_2017_df = pd.read_csv(\"./raw_data/usagers-2017.csv\", encoding=\"latin1\")\n",
    "user_2016_df = pd.read_csv(\"./raw_data/usagers_2016.csv\", encoding=\"latin1\")\n",
    "user_2015_df = pd.read_csv(\"./raw_data/usagers_2015.csv\", encoding=\"latin1\")\n",
    "user_2014_df = pd.read_csv(\"./raw_data/usagers_2014.csv\", encoding=\"latin1\")\n",
    "user_2013_df = pd.read_csv(\"./raw_data/usagers_2013.csv\", encoding=\"latin1\")\n",
    "user_2012_df = pd.read_csv(\"./raw_data/usagers_2012.csv\", encoding=\"latin1\")\n",
    "user_2011_df = pd.read_csv(\"./raw_data/usagers_2011.csv\", encoding=\"latin1\")\n",
    "user_2010_df = pd.read_csv(\"./raw_data/usagers_2010.csv\", encoding=\"latin1\")\n",
    "user_2009_df = pd.read_csv(\"./raw_data/usagers_2009.csv\", encoding=\"latin1\")\n",
    "user_2008_df = pd.read_csv(\"./raw_data/usagers_2008.csv\", encoding=\"latin1\")\n",
    "user_2007_df = pd.read_csv(\"./raw_data/usagers_2007.csv\", encoding=\"latin1\")\n",
    "user_2006_df = pd.read_csv(\"./raw_data/usagers_2006.csv\", encoding=\"latin1\")\n",
    "user_2005_df = pd.read_csv(\"./raw_data/usagers_2005.csv\", encoding=\"latin1\")"
   ]
  },
  {
   "cell_type": "code",
   "execution_count": 11,
   "metadata": {},
   "outputs": [],
   "source": [
    "def format_secu(secu: float)->float:\n",
    "    \"\"\"Function to format secu values from 2005 - 2018 to format from 2019\n",
    "\n",
    "    Args:\n",
    "        secu (float): The float on the format from 2005 - 2018\n",
    "\n",
    "    Returns:\n",
    "        float: The float on 2019 format.\n",
    "    \"\"\"\n",
    "    tmp = str(secu)\n",
    "    eq, ex = tmp[:1], tmp[1:2]\n",
    "    if ex == \"2\":\n",
    "        return 0.0\n",
    "    if ex == \"3\":\n",
    "        return -1.0\n",
    "    return eq"
   ]
  },
  {
   "cell_type": "code",
   "execution_count": 12,
   "metadata": {},
   "outputs": [],
   "source": [
    "# Format secu to secu1 on data from 2005 - 2018\n",
    "user_2005_df[\"secu1\"] = user_2005_df[\"secu\"].apply(lambda x: format_secu(x))\n",
    "user_2005_df = user_2005_df.drop(columns=[\"secu\"])\n",
    "\n",
    "user_2006_df[\"secu1\"] = user_2006_df[\"secu\"].apply(lambda x: format_secu(x))\n",
    "user_2006_df = user_2006_df.drop(columns=[\"secu\"])\n",
    "\n",
    "user_2007_df[\"secu1\"] = user_2007_df[\"secu\"].apply(lambda x: format_secu(x))\n",
    "user_2007_df = user_2007_df.drop(columns=[\"secu\"])\n",
    "\n",
    "user_2008_df[\"secu1\"] = user_2008_df[\"secu\"].apply(lambda x: format_secu(x))\n",
    "user_2008_df = user_2008_df.drop(columns=[\"secu\"])\n",
    "\n",
    "user_2009_df[\"secu1\"] = user_2009_df[\"secu\"].apply(lambda x: format_secu(x))\n",
    "user_2009_df = user_2009_df.drop(columns=[\"secu\"])\n",
    "\n",
    "user_2010_df[\"secu1\"] = user_2010_df[\"secu\"].apply(lambda x: format_secu(x))\n",
    "user_2010_df = user_2010_df.drop(columns=[\"secu\"])\n",
    "\n",
    "user_2011_df[\"secu1\"] = user_2011_df[\"secu\"].apply(lambda x: format_secu(x))\n",
    "user_2011_df = user_2011_df.drop(columns=[\"secu\"])\n",
    "\n",
    "user_2012_df[\"secu1\"] = user_2012_df[\"secu\"].apply(lambda x: format_secu(x))\n",
    "user_2012_df = user_2012_df.drop(columns=[\"secu\"])\n",
    "\n",
    "user_2013_df[\"secu1\"] = user_2013_df[\"secu\"].apply(lambda x: format_secu(x))\n",
    "user_2013_df = user_2013_df.drop(columns=[\"secu\"])\n",
    "\n",
    "user_2014_df[\"secu1\"] = user_2014_df[\"secu\"].apply(lambda x: format_secu(x))\n",
    "user_2014_df = user_2014_df.drop(columns=[\"secu\"])\n",
    "\n",
    "user_2015_df[\"secu1\"] = user_2015_df[\"secu\"].apply(lambda x: format_secu(x))\n",
    "user_2015_df = user_2015_df.drop(columns=[\"secu\"])\n",
    "\n",
    "user_2016_df[\"secu1\"] = user_2016_df[\"secu\"].apply(lambda x: format_secu(x))\n",
    "user_2016_df = user_2016_df.drop(columns=[\"secu\"])\n",
    "\n",
    "user_2017_df[\"secu1\"] = user_2017_df[\"secu\"].apply(lambda x: format_secu(x))\n",
    "user_2017_df = user_2017_df.drop(columns=[\"secu\"])\n",
    "\n",
    "user_2018_df[\"secu1\"] = user_2018_df[\"secu\"].apply(lambda x: format_secu(x))\n",
    "user_2018_df = user_2018_df.drop(columns=[\"secu\"])"
   ]
  },
  {
   "cell_type": "code",
   "execution_count": 13,
   "metadata": {},
   "outputs": [],
   "source": [
    "# Drop id_vehicle from 2019\n",
    "user_2019_df = user_2019_df.drop(columns=[\"id_vehicule\"])"
   ]
  },
  {
   "cell_type": "code",
   "execution_count": 14,
   "metadata": {},
   "outputs": [],
   "source": [
    "# Combine dataset and remane columns\n",
    "user_datasets = [user_2005_df, user_2006_df, user_2007_df, user_2008_df, user_2009_df, user_2010_df, user_2011_df, user_2012_df, user_2013_df, user_2014_df, user_2015_df, user_2016_df, user_2017_df, user_2018_df, user_2019_df]\n",
    "user_2005_2019 = pd.concat(user_datasets)\n",
    "user_2005_2019.columns = [\"acc_id\", \"vehicle_pos\", \"user_cat\", \"severity\", \"gender\", \"travel_reason\", \"ped_position\", \"ped_action\", \"ped_company\", \"birthyear\", \"num_veh\", \"secu1\", \"secu2\", \"secu3\"]"
   ]
  },
  {
   "cell_type": "markdown",
   "metadata": {},
   "source": [
    "## Vehicles Formatting"
   ]
  },
  {
   "cell_type": "code",
   "execution_count": 15,
   "metadata": {},
   "outputs": [],
   "source": [
    "# Load users data\n",
    "vehi_2019_df = pd.read_csv(\"./raw_data/vehicules-2019.csv\", encoding=\"latin1\", sep=\";\", decimal=\",\")\n",
    "vehi_2018_df = pd.read_csv(\"./raw_data/vehicules-2018.csv\", encoding=\"latin1\")\n",
    "vehi_2017_df = pd.read_csv(\"./raw_data/vehicules-2017.csv\", encoding=\"latin1\")\n",
    "vehi_2016_df = pd.read_csv(\"./raw_data/vehicules_2016.csv\", encoding=\"latin1\")\n",
    "vehi_2015_df = pd.read_csv(\"./raw_data/vehicules_2015.csv\", encoding=\"latin1\")\n",
    "vehi_2014_df = pd.read_csv(\"./raw_data/vehicules_2014.csv\", encoding=\"latin1\")\n",
    "vehi_2013_df = pd.read_csv(\"./raw_data/vehicules_2013.csv\", encoding=\"latin1\")\n",
    "vehi_2012_df = pd.read_csv(\"./raw_data/vehicules_2012.csv\", encoding=\"latin1\")\n",
    "vehi_2011_df = pd.read_csv(\"./raw_data/vehicules_2011.csv\", encoding=\"latin1\")\n",
    "vehi_2010_df = pd.read_csv(\"./raw_data/vehicules_2010.csv\", encoding=\"latin1\")\n",
    "vehi_2009_df = pd.read_csv(\"./raw_data/vehicules_2009.csv\", encoding=\"latin1\")\n",
    "vehi_2008_df = pd.read_csv(\"./raw_data/vehicules_2008.csv\", encoding=\"latin1\")\n",
    "vehi_2007_df = pd.read_csv(\"./raw_data/vehicules_2007.csv\", encoding=\"latin1\")\n",
    "vehi_2006_df = pd.read_csv(\"./raw_data/vehicules_2006.csv\", encoding=\"latin1\")\n",
    "vehi_2005_df = pd.read_csv(\"./raw_data/vehicules_2005.csv\", encoding=\"latin1\")"
   ]
  },
  {
   "cell_type": "code",
   "execution_count": 16,
   "metadata": {},
   "outputs": [],
   "source": [
    "# Drop unnecessary colums in 2019\n",
    "vehi_2019_df = vehi_2019_df.drop(columns=[\"id_vehicule\", \"motor\"])"
   ]
  },
  {
   "cell_type": "code",
   "execution_count": 17,
   "metadata": {},
   "outputs": [],
   "source": [
    "# Combine dataset and remane columns\n",
    "vehi_datasets = [vehi_2005_df, vehi_2006_df, vehi_2007_df, vehi_2008_df, vehi_2009_df, vehi_2010_df, vehi_2011_df, vehi_2012_df, vehi_2013_df, vehi_2014_df, vehi_2015_df, vehi_2016_df, vehi_2017_df, vehi_2018_df, vehi_2019_df]\n",
    "vehi_2005_2019 = pd.concat(vehi_datasets)"
   ]
  },
  {
   "cell_type": "markdown",
   "metadata": {},
   "source": [
    "## Make CSV's"
   ]
  },
  {
   "cell_type": "code",
   "execution_count": 18,
   "metadata": {},
   "outputs": [],
   "source": [
    "cara_2005_2019.to_csv(\"./processed_data/characteristics.csv\", index=False)"
   ]
  },
  {
   "cell_type": "code",
   "execution_count": 19,
   "metadata": {},
   "outputs": [],
   "source": [
    "plac_2005_2019.to_csv(\"./processed_data/places.csv\", index=False)"
   ]
  },
  {
   "cell_type": "code",
   "execution_count": 20,
   "metadata": {},
   "outputs": [],
   "source": [
    "user_2005_2019.to_csv(\"./processed_data/users.csv\", index=False)"
   ]
  },
  {
   "cell_type": "code",
   "execution_count": 21,
   "metadata": {},
   "outputs": [],
   "source": [
    "vehi_2005_2019.to_csv(\"./processed_data/vehicles.csv\", index=False)"
   ]
  }
 ],
 "metadata": {
  "interpreter": {
   "hash": "b3b2c968c4bb6504e32a29f7eb80bef313df9b9911047db42e485dc0061161a0"
  },
  "kernelspec": {
   "display_name": "Python 3.9.7 64-bit ('ds': conda)",
   "name": "python3"
  },
  "language_info": {
   "codemirror_mode": {
    "name": "ipython",
    "version": 3
   },
   "file_extension": ".py",
   "mimetype": "text/x-python",
   "name": "python",
   "nbconvert_exporter": "python",
   "pygments_lexer": "ipython3",
   "version": "3.9.7"
  },
  "orig_nbformat": 4
 },
 "nbformat": 4,
 "nbformat_minor": 2
}
